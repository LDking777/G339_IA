{
 "cells": [
  {
   "cell_type": "code",
   "execution_count": 5,
   "id": "af3a80c8",
   "metadata": {},
   "outputs": [],
   "source": [
    "# Introdución a Numpy "
   ]
  },
  {
   "cell_type": "code",
   "execution_count": 1,
   "id": "c7cfa0ff",
   "metadata": {},
   "outputs": [],
   "source": [
    "import numpy as np"
   ]
  },
  {
   "cell_type": "markdown",
   "id": "0b7cf5c5",
   "metadata": {},
   "source": [
    "# Arrays \n",
    "Es una estructura de datos \n",
    "un axis \"eje\"\n",
    "nu shape (3 filas,5 columnas) \"distribución\"\n",
    "un size 15 \"tamaño\""
   ]
  },
  {
   "cell_type": "code",
   "execution_count": 11,
   "id": "d32365a6",
   "metadata": {},
   "outputs": [
    {
     "name": "stdout",
     "output_type": "stream",
     "text": [
      "[[0. 0. 0. 0. 0.]\n",
      " [0. 0. 0. 0. 0.]\n",
      " [0. 0. 0. 0. 0.]]\n"
     ]
    }
   ],
   "source": [
    "# Array cuyos valores son todo 0 \n",
    "a = np.zeros((3,5)) \n",
    "print(a)"
   ]
  },
  {
   "cell_type": "code",
   "execution_count": 12,
   "id": "7495860d",
   "metadata": {},
   "outputs": [
    {
     "name": "stdout",
     "output_type": "stream",
     "text": [
      "2\n",
      "(3, 5)\n",
      "15\n"
     ]
    }
   ],
   "source": [
    "print(a.ndim) \n",
    "print (a.shape)\n",
    "print (a.size) "
   ]
  },
  {
   "cell_type": "markdown",
   "id": "79a30995",
   "metadata": {},
   "source": [
    "# describe el Array"
   ]
  },
  {
   "cell_type": "code",
   "execution_count": 9,
   "id": "a0847a6c",
   "metadata": {},
   "outputs": [
    {
     "name": "stdout",
     "output_type": "stream",
     "text": [
      "[[[0. 0. 0. 0.]\n",
      "  [0. 0. 0. 0.]\n",
      "  [0. 0. 0. 0.]]\n",
      "\n",
      " [[0. 0. 0. 0.]\n",
      "  [0. 0. 0. 0.]\n",
      "  [0. 0. 0. 0.]]]\n"
     ]
    }
   ],
   "source": [
    "#ejemplo 2 \n",
    "b = np.zeros((2,3,4))\n",
    "print(b)"
   ]
  },
  {
   "cell_type": "code",
   "execution_count": 10,
   "id": "6f6c16d6",
   "metadata": {},
   "outputs": [
    {
     "name": "stdout",
     "output_type": "stream",
     "text": [
      "3\n",
      "(2, 3, 4)\n",
      "24\n"
     ]
    }
   ],
   "source": [
    "print(b.ndim) \n",
    "print (b.shape)\n",
    "print (b.size)  "
   ]
  }
 ],
 "metadata": {
  "kernelspec": {
   "display_name": "envg339",
   "language": "python",
   "name": "python3"
  },
  "language_info": {
   "codemirror_mode": {
    "name": "ipython",
    "version": 3
   },
   "file_extension": ".py",
   "mimetype": "text/x-python",
   "name": "python",
   "nbconvert_exporter": "python",
   "pygments_lexer": "ipython3",
   "version": "3.14.0"
  }
 },
 "nbformat": 4,
 "nbformat_minor": 5
}
